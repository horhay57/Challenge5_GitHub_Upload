{
 "cells": [
  {
   "cell_type": "markdown",
   "metadata": {
    "tags": []
   },
   "source": [
    "# Financial Planning with APIs and Simulations\n",
    "\n",
    "In this Challenge, you’ll create two financial analysis tools by using a single Jupyter notebook:\n",
    "\n",
    "Part 1: A financial planner for emergencies. The members will be able to use this tool to visualize their current savings. The members can then determine if they have enough reserves for an emergency fund.\n",
    "\n",
    "Part 2: A financial planner for retirement. This tool will forecast the performance of their retirement portfolio in 30 years. To do this, the tool will make an Alpaca API call via the Alpaca SDK to get historical price data for use in Monte Carlo simulations.\n",
    "\n",
    "You’ll use the information from the Monte Carlo simulation to answer questions about the portfolio in your Jupyter notebook.\n",
    "\n"
   ]
  },
  {
   "cell_type": "code",
   "execution_count": 1,
   "metadata": {},
   "outputs": [
    {
     "name": "stdout",
     "output_type": "stream",
     "text": [
      "Requirement already satisfied: alpaca_trade_api in c:\\users\\19089\\anaconda3\\lib\\site-packages (2.3.0)\n",
      "Requirement already satisfied: requests<3,>2 in c:\\users\\19089\\anaconda3\\lib\\site-packages (from alpaca_trade_api) (2.27.1)\n",
      "Requirement already satisfied: websockets<11,>=9.0 in c:\\users\\19089\\anaconda3\\lib\\site-packages (from alpaca_trade_api) (10.3)\n",
      "Requirement already satisfied: websocket-client<2,>=0.56.0 in c:\\users\\19089\\anaconda3\\lib\\site-packages (from alpaca_trade_api) (0.58.0)\n",
      "Requirement already satisfied: pandas>=0.18.1 in c:\\users\\19089\\anaconda3\\lib\\site-packages (from alpaca_trade_api) (1.4.2)\n",
      "Requirement already satisfied: urllib3<2,>1.24 in c:\\users\\19089\\anaconda3\\lib\\site-packages (from alpaca_trade_api) (1.26.9)\n",
      "Requirement already satisfied: aiohttp==3.8.1 in c:\\users\\19089\\anaconda3\\lib\\site-packages (from alpaca_trade_api) (3.8.1)\n",
      "Requirement already satisfied: numpy>=1.11.1 in c:\\users\\19089\\anaconda3\\lib\\site-packages (from alpaca_trade_api) (1.21.5)\n",
      "Requirement already satisfied: msgpack==1.0.3 in c:\\users\\19089\\anaconda3\\lib\\site-packages (from alpaca_trade_api) (1.0.3)\n",
      "Requirement already satisfied: PyYAML==6.0 in c:\\users\\19089\\anaconda3\\lib\\site-packages (from alpaca_trade_api) (6.0)\n",
      "Requirement already satisfied: deprecation==2.1.0 in c:\\users\\19089\\anaconda3\\lib\\site-packages (from alpaca_trade_api) (2.1.0)\n",
      "Requirement already satisfied: multidict<7.0,>=4.5 in c:\\users\\19089\\anaconda3\\lib\\site-packages (from aiohttp==3.8.1->alpaca_trade_api) (5.1.0)\n",
      "Requirement already satisfied: aiosignal>=1.1.2 in c:\\users\\19089\\anaconda3\\lib\\site-packages (from aiohttp==3.8.1->alpaca_trade_api) (1.2.0)\n",
      "Requirement already satisfied: charset-normalizer<3.0,>=2.0 in c:\\users\\19089\\anaconda3\\lib\\site-packages (from aiohttp==3.8.1->alpaca_trade_api) (2.0.4)\n",
      "Requirement already satisfied: attrs>=17.3.0 in c:\\users\\19089\\anaconda3\\lib\\site-packages (from aiohttp==3.8.1->alpaca_trade_api) (21.4.0)\n",
      "Requirement already satisfied: frozenlist>=1.1.1 in c:\\users\\19089\\anaconda3\\lib\\site-packages (from aiohttp==3.8.1->alpaca_trade_api) (1.2.0)\n",
      "Requirement already satisfied: yarl<2.0,>=1.0 in c:\\users\\19089\\anaconda3\\lib\\site-packages (from aiohttp==3.8.1->alpaca_trade_api) (1.6.3)\n",
      "Requirement already satisfied: async-timeout<5.0,>=4.0.0a3 in c:\\users\\19089\\anaconda3\\lib\\site-packages (from aiohttp==3.8.1->alpaca_trade_api) (4.0.1)\n",
      "Requirement already satisfied: packaging in c:\\users\\19089\\anaconda3\\lib\\site-packages (from deprecation==2.1.0->alpaca_trade_api) (21.3)\n",
      "Requirement already satisfied: typing-extensions>=3.6.5 in c:\\users\\19089\\anaconda3\\lib\\site-packages (from async-timeout<5.0,>=4.0.0a3->aiohttp==3.8.1->alpaca_trade_api) (4.1.1)\n",
      "Requirement already satisfied: python-dateutil>=2.8.1 in c:\\users\\19089\\anaconda3\\lib\\site-packages (from pandas>=0.18.1->alpaca_trade_api) (2.8.2)\n",
      "Requirement already satisfied: pytz>=2020.1 in c:\\users\\19089\\anaconda3\\lib\\site-packages (from pandas>=0.18.1->alpaca_trade_api) (2021.3)\n",
      "Requirement already satisfied: six>=1.5 in c:\\users\\19089\\anaconda3\\lib\\site-packages (from python-dateutil>=2.8.1->pandas>=0.18.1->alpaca_trade_api) (1.16.0)\n",
      "Requirement already satisfied: idna<4,>=2.5 in c:\\users\\19089\\anaconda3\\lib\\site-packages (from requests<3,>2->alpaca_trade_api) (3.3)\n",
      "Requirement already satisfied: certifi>=2017.4.17 in c:\\users\\19089\\anaconda3\\lib\\site-packages (from requests<3,>2->alpaca_trade_api) (2021.10.8)\n",
      "Requirement already satisfied: pyparsing!=3.0.5,>=2.0.2 in c:\\users\\19089\\anaconda3\\lib\\site-packages (from packaging->deprecation==2.1.0->alpaca_trade_api) (3.0.4)\n",
      "Note: you may need to restart the kernel to use updated packages.\n"
     ]
    }
   ],
   "source": [
    "pip install alpaca_trade_api"
   ]
  },
  {
   "cell_type": "code",
   "execution_count": 2,
   "metadata": {},
   "outputs": [],
   "source": [
    "# Import the required libraries and dependencies\n",
    "import os\n",
    "import requests\n",
    "import json\n",
    "import pandas as pd\n",
    "from dotenv import load_dotenv\n",
    "import alpaca_trade_api as tradeapi\n",
    "from MCForecastTools import MCSimulation\n",
    "import warnings\n",
    "warnings.filterwarnings(\"ignore\")\n",
    "\n",
    "%matplotlib inline"
   ]
  },
  {
   "cell_type": "code",
   "execution_count": 3,
   "metadata": {},
   "outputs": [
    {
     "data": {
      "text/plain": [
       "False"
      ]
     },
     "execution_count": 3,
     "metadata": {},
     "output_type": "execute_result"
    }
   ],
   "source": [
    "# Load the environment variables from the .env file\n",
    "#by calling the load_dotenv function\n",
    "load_dotenv()"
   ]
  },
  {
   "cell_type": "markdown",
   "metadata": {},
   "source": [
    "## Part 1: Create a Financial Planner for Emergencies"
   ]
  },
  {
   "cell_type": "markdown",
   "metadata": {},
   "source": [
    "### Evaluate the Cryptocurrency Wallet by Using the Requests Library\n",
    "\n",
    "In this section, you’ll determine the current value of a member’s cryptocurrency wallet. You’ll collect the current prices for the Bitcoin and Ethereum cryptocurrencies by using the Python Requests library. For the prototype, you’ll assume that the member holds the 1.2 Bitcoins (BTC) and 5.3 Ethereum coins (ETH). To do all this, complete the following steps:\n",
    "\n",
    "1. Create a variable named `monthly_income`, and set its value to `12000`.\n",
    "\n",
    "2. Use the Requests library to get the current price (in US dollars) of Bitcoin (BTC) and Ethereum (ETH) by using the API endpoints that the starter code supplies.\n",
    "\n",
    "3. Navigate the JSON response object to access the current price of each coin, and store each in a variable.\n",
    "\n",
    "    > **Hint** Note the specific identifier for each cryptocurrency in the API JSON response. The Bitcoin identifier is `1`, and the Ethereum identifier is `1027`.\n",
    "\n",
    "4. Calculate the value, in US dollars, of the current amount of each cryptocurrency and of the entire cryptocurrency wallet.\n",
    "\n"
   ]
  },
  {
   "cell_type": "code",
   "execution_count": 4,
   "metadata": {},
   "outputs": [],
   "source": [
    "# The current number of coins for each cryptocurrency asset held in the portfolio.\n",
    "btc_coins = 1.2\n",
    "eth_coins = 5.3"
   ]
  },
  {
   "cell_type": "markdown",
   "metadata": {},
   "source": [
    "#### Step 1: Create a variable named `monthly_income`, and set its value to `12000`."
   ]
  },
  {
   "cell_type": "code",
   "execution_count": 5,
   "metadata": {},
   "outputs": [],
   "source": [
    "# The monthly amount for the member's household income\n",
    "monthly_income = 12000\n"
   ]
  },
  {
   "cell_type": "markdown",
   "metadata": {},
   "source": [
    "#### Review the endpoint URLs for the API calls to Free Crypto API in order to get the current pricing information for both BTC and ETH."
   ]
  },
  {
   "cell_type": "code",
   "execution_count": 6,
   "metadata": {},
   "outputs": [],
   "source": [
    "# The Free Crypto API Call endpoint URLs for the held cryptocurrency assets\n",
    "btc_url = \"https://api.alternative.me/v2/ticker/Bitcoin/?convert=USD\"\n",
    "eth_url = \"https://api.alternative.me/v2/ticker/Ethereum/?convert=USD\""
   ]
  },
  {
   "cell_type": "markdown",
   "metadata": {},
   "source": [
    "#### Step 2. Use the Requests library to get the current price (in US dollars) of Bitcoin (BTC) and Ethereum (ETH) by using the API endpoints that the starter code supplied."
   ]
  },
  {
   "cell_type": "code",
   "execution_count": 7,
   "metadata": {},
   "outputs": [
    {
     "name": "stdout",
     "output_type": "stream",
     "text": [
      "{\n",
      "    \"data\": {\n",
      "        \"1\": {\n",
      "            \"circulating_supply\": 19167593,\n",
      "            \"id\": 1,\n",
      "            \"last_updated\": 1664772300,\n",
      "            \"max_supply\": 21000000,\n",
      "            \"name\": \"Bitcoin\",\n",
      "            \"quotes\": {\n",
      "                \"USD\": {\n",
      "                    \"market_cap\": 366493297918,\n",
      "                    \"percent_change_1h\": -0.292007064636278,\n",
      "                    \"percent_change_24h\": -0.960899709805313,\n",
      "                    \"percent_change_7d\": 1.69053611116287,\n",
      "                    \"percentage_change_1h\": -0.292007064636278,\n",
      "                    \"percentage_change_24h\": -0.960899709805313,\n",
      "                    \"percentage_change_7d\": 1.69053611116287,\n",
      "                    \"price\": 19127.39,\n",
      "                    \"volume_24h\": 20826216416\n",
      "                }\n",
      "            },\n",
      "            \"rank\": 1,\n",
      "            \"symbol\": \"BTC\",\n",
      "            \"total_supply\": 19167593,\n",
      "            \"website_slug\": \"bitcoin\"\n",
      "        }\n",
      "    },\n",
      "    \"metadata\": {\n",
      "        \"error\": null,\n",
      "        \"num_cryptocurrencies\": 3116,\n",
      "        \"timestamp\": 1664772300\n",
      "    }\n",
      "}\n"
     ]
    }
   ],
   "source": [
    "# Using the Python requests library, make an API call to access the current price of BTC\n",
    "btc_response = requests.get(btc_url).json()\n",
    "print(json.dumps(btc_response, indent=4, sort_keys=True))\n",
    "\n",
    "\n",
    "# Use the json.dumps function to review the response data from the API call\n",
    "# Use the indent and sort_keys parameters to make the response object readable\n",
    "# YOUR CODE HERE\n"
   ]
  },
  {
   "cell_type": "code",
   "execution_count": 8,
   "metadata": {},
   "outputs": [
    {
     "name": "stdout",
     "output_type": "stream",
     "text": [
      "{\n",
      "    \"data\": {\n",
      "        \"1027\": {\n",
      "            \"circulating_supply\": 120786040,\n",
      "            \"id\": 1027,\n",
      "            \"last_updated\": 1664772267,\n",
      "            \"max_supply\": 120785184,\n",
      "            \"name\": \"Ethereum\",\n",
      "            \"quotes\": {\n",
      "                \"USD\": {\n",
      "                    \"market_cap\": 155782887210,\n",
      "                    \"percent_change_1h\": -0.350952202471206,\n",
      "                    \"percent_change_24h\": -1.58493161724647,\n",
      "                    \"percent_change_7d\": -0.320994478761305,\n",
      "                    \"percentage_change_1h\": -0.350952202471206,\n",
      "                    \"percentage_change_24h\": -1.58493161724647,\n",
      "                    \"percentage_change_7d\": -0.320994478761305,\n",
      "                    \"price\": 1289.92,\n",
      "                    \"volume_24h\": 7049202173\n",
      "                }\n",
      "            },\n",
      "            \"rank\": 2,\n",
      "            \"symbol\": \"ETH\",\n",
      "            \"total_supply\": 120786040,\n",
      "            \"website_slug\": \"ethereum\"\n",
      "        }\n",
      "    },\n",
      "    \"metadata\": {\n",
      "        \"error\": null,\n",
      "        \"num_cryptocurrencies\": 3116,\n",
      "        \"timestamp\": 1664772267\n",
      "    }\n",
      "}\n"
     ]
    }
   ],
   "source": [
    "# Using the Python requests library, make an API call to access the current price ETH\n",
    "eth_response = requests.get(eth_url).json()\n",
    "print(json.dumps(eth_response, indent=4, sort_keys=True))\n",
    "\n",
    "\n",
    "# Use the json.dumps function to review the response data from the API call\n",
    "# Use the indent and sort_keys parameters to make the response object readable\n",
    "# YOUR CODE HERE\n"
   ]
  },
  {
   "cell_type": "markdown",
   "metadata": {},
   "source": [
    "#### Step 3: Navigate the JSON response object to access the current price of each coin, and store each in a variable."
   ]
  },
  {
   "cell_type": "code",
   "execution_count": 9,
   "metadata": {},
   "outputs": [
    {
     "name": "stdout",
     "output_type": "stream",
     "text": [
      "The price for BTC is $19127.39\n"
     ]
    }
   ],
   "source": [
    "# Navigate the BTC response object to access the current price of BTC\n",
    "btc_price = btc_response['data']['1']['quotes']['USD']['price']\n",
    "\n",
    "\n",
    "# Print the current price of BTC\n",
    "print(f'The price for BTC is ${btc_price}')\n"
   ]
  },
  {
   "cell_type": "code",
   "execution_count": 10,
   "metadata": {},
   "outputs": [
    {
     "name": "stdout",
     "output_type": "stream",
     "text": [
      "The price for ETH is $1289.92\n"
     ]
    }
   ],
   "source": [
    "# Navigate the BTC response object to access the current price of ETH\n",
    "eth_price = eth_response['data']['1027']['quotes']['USD']['price']\n",
    "\n",
    "# Print the current price of ETH\n",
    "print(f'The price for ETH is ${eth_price}')"
   ]
  },
  {
   "cell_type": "markdown",
   "metadata": {},
   "source": [
    "### Step 4: Calculate the value, in US dollars, of the current amount of each cryptocurrency and of the entire cryptocurrency wallet."
   ]
  },
  {
   "cell_type": "code",
   "execution_count": 11,
   "metadata": {},
   "outputs": [
    {
     "name": "stdout",
     "output_type": "stream",
     "text": [
      "The current value of the BTC holding is $22952.868\n"
     ]
    }
   ],
   "source": [
    "# Compute the current value of the BTC holding \n",
    "btc_value = btc_coins * btc_price\n",
    "\n",
    "# Print current value of your holding in BTC\n",
    "print(f'The current value of the BTC holding is ${btc_value}')\n"
   ]
  },
  {
   "cell_type": "code",
   "execution_count": 12,
   "metadata": {},
   "outputs": [
    {
     "name": "stdout",
     "output_type": "stream",
     "text": [
      "The current value of the ETH holding is $6836.576\n"
     ]
    }
   ],
   "source": [
    "# Compute the current value of the ETH holding \n",
    "eth_value = eth_coins * eth_price\n",
    "\n",
    "# Print current value of your holding in ETH\n",
    "print(f'The current value of the ETH holding is ${eth_value}')"
   ]
  },
  {
   "cell_type": "code",
   "execution_count": 13,
   "metadata": {},
   "outputs": [
    {
     "name": "stdout",
     "output_type": "stream",
     "text": [
      "The current total value of the crypto wallet is $29789.444\n"
     ]
    }
   ],
   "source": [
    "# Compute the total value of the cryptocurrency wallet\n",
    "# Add the value of the BTC holding to the value of the ETH holding\n",
    "total_crypto_wallet = btc_value + eth_value\n",
    "\n",
    "# Print current cryptocurrency wallet balance\n",
    "print(f'The current total value of the crypto wallet is ${total_crypto_wallet}')"
   ]
  },
  {
   "cell_type": "markdown",
   "metadata": {},
   "source": [
    "### Evaluate the Stock and Bond Holdings by Using the Alpaca SDK\n",
    "\n",
    "In this section, you’ll determine the current value of a member’s stock and bond holdings. You’ll make an API call to Alpaca via the Alpaca SDK to get the current closing prices of the SPDR S&P 500 ETF Trust (ticker: SPY) and of the iShares Core US Aggregate Bond ETF (ticker: AGG). For the prototype, assume that the member holds 110 shares of SPY, which represents the stock portion of their portfolio, and 200 shares of AGG, which represents the bond portion. To do all this, complete the following steps:\n",
    "\n",
    "1. In the `Starter_Code` folder, create an environment file (`.env`) to store the values of your Alpaca API key and Alpaca secret key.\n",
    "\n",
    "2. Set the variables for the Alpaca API and secret keys. Using the Alpaca SDK, create the Alpaca `tradeapi.REST` object. In this object, include the parameters for the Alpaca API key, the secret key, and the version number.\n",
    "\n",
    "3. Set the following parameters for the Alpaca API call:\n",
    "\n",
    "    - `tickers`: Use the tickers for the member’s stock and bond holdings.\n",
    "\n",
    "    - `timeframe`: Use a time frame of one day.\n",
    "\n",
    "    - `start_date` and `end_date`: Use the same date for these parameters, and format them with the date of the previous weekday (or `2020-08-07`). This is because you want the one closing price for the most-recent trading day.\n",
    "\n",
    "4. Get the current closing prices for `SPY` and `AGG` by using the Alpaca `get_bars` function. Format the response as a Pandas DataFrame by including the `df` property at the end of the `get_bars` function.\n",
    "\n",
    "5. Navigating the Alpaca response DataFrame, select the `SPY` and `AGG` closing prices, and store them as variables.\n",
    "\n",
    "6. Calculate the value, in US dollars, of the current amount of shares in each of the stock and bond portions of the portfolio, and print the results.\n"
   ]
  },
  {
   "cell_type": "markdown",
   "metadata": {},
   "source": [
    "#### Review the total number of shares held in both (SPY) and (AGG)."
   ]
  },
  {
   "cell_type": "code",
   "execution_count": 14,
   "metadata": {},
   "outputs": [],
   "source": [
    "# Current amount of shares held in both the stock (SPY) and bond (AGG) portion of the portfolio.\n",
    "spy_shares = 110\n",
    "agg_shares = 200\n"
   ]
  },
  {
   "cell_type": "markdown",
   "metadata": {},
   "source": [
    "#### Step 1: In the `Starter_Code` folder, create an environment file (`.env`) to store the values of your Alpaca API key and Alpaca secret key."
   ]
  },
  {
   "cell_type": "markdown",
   "metadata": {},
   "source": [
    "#### Step 2: Set the variables for the Alpaca API and secret keys. Using the Alpaca SDK, create the Alpaca `tradeapi.REST` object. In this object, include the parameters for the Alpaca API key, the secret key, and the version number."
   ]
  },
  {
   "cell_type": "code",
   "execution_count": 15,
   "metadata": {},
   "outputs": [],
   "source": [
    "# Set the variables for the Alpaca API and secret keys\n",
    "load_dotenv('api1.env')\n",
    "alpaca_api_key = os.getenv('ALPACA_API_KEY')\n",
    "alpaca_secret_key = os.getenv('ALPACA_SECRET_KEY')\n",
    "# Create the Alpaca tradeapi.REST object\n",
    "alpaca = tradeapi.REST(\n",
    "    alpaca_api_key,\n",
    "    alpaca_secret_key,\n",
    "    api_version=\"v2\")\n"
   ]
  },
  {
   "cell_type": "markdown",
   "metadata": {},
   "source": [
    "#### Step 3: Set the following parameters for the Alpaca API call:\n",
    "\n",
    "- `tickers`: Use the tickers for the member’s stock and bond holdings.\n",
    "\n",
    "- `timeframe`: Use a time frame of one day.\n",
    "\n",
    "- `start_date` and `end_date`: Use the same date for these parameters, and format them with the date of the previous weekday (or `2020-08-07`). This is because you want the one closing price for the most-recent trading day.\n"
   ]
  },
  {
   "cell_type": "code",
   "execution_count": 16,
   "metadata": {},
   "outputs": [],
   "source": [
    "# Set the tickers for both the bond and stock portion of the portfolio\n",
    "tickers = ['AGG', 'SPY']\n",
    "\n",
    "# Set timeframe to 1Day\n",
    "timeframe = \"1Day\"\n",
    "\n",
    "# Format current date as ISO format\n",
    "# Set both the start and end date at the date of your prior weekday \n",
    "# This will give you the closing price of the previous trading day\n",
    "# Alternatively you can use a start and end date of 2020-08-07\n",
    "today = pd.Timestamp('2022-09-27', tz='America/New_York').isoformat()\n"
   ]
  },
  {
   "cell_type": "markdown",
   "metadata": {},
   "source": [
    "#### Step 4: Get the current closing prices for `SPY` and `AGG` by using the Alpaca `get_bars` function. Format the response as a Pandas DataFrame by including the `df` property at the end of the `get_bars` function."
   ]
  },
  {
   "cell_type": "code",
   "execution_count": 17,
   "metadata": {},
   "outputs": [
    {
     "data": {
      "text/html": [
       "<div>\n",
       "<style scoped>\n",
       "    .dataframe tbody tr th:only-of-type {\n",
       "        vertical-align: middle;\n",
       "    }\n",
       "\n",
       "    .dataframe tbody tr th {\n",
       "        vertical-align: top;\n",
       "    }\n",
       "\n",
       "    .dataframe thead tr th {\n",
       "        text-align: left;\n",
       "    }\n",
       "\n",
       "    .dataframe thead tr:last-of-type th {\n",
       "        text-align: right;\n",
       "    }\n",
       "</style>\n",
       "<table border=\"1\" class=\"dataframe\">\n",
       "  <thead>\n",
       "    <tr>\n",
       "      <th></th>\n",
       "      <th colspan=\"7\" halign=\"left\">AGG</th>\n",
       "      <th colspan=\"7\" halign=\"left\">SPY</th>\n",
       "    </tr>\n",
       "    <tr>\n",
       "      <th></th>\n",
       "      <th>open</th>\n",
       "      <th>high</th>\n",
       "      <th>low</th>\n",
       "      <th>close</th>\n",
       "      <th>volume</th>\n",
       "      <th>trade_count</th>\n",
       "      <th>vwap</th>\n",
       "      <th>open</th>\n",
       "      <th>high</th>\n",
       "      <th>low</th>\n",
       "      <th>close</th>\n",
       "      <th>volume</th>\n",
       "      <th>trade_count</th>\n",
       "      <th>vwap</th>\n",
       "    </tr>\n",
       "    <tr>\n",
       "      <th>timestamp</th>\n",
       "      <th></th>\n",
       "      <th></th>\n",
       "      <th></th>\n",
       "      <th></th>\n",
       "      <th></th>\n",
       "      <th></th>\n",
       "      <th></th>\n",
       "      <th></th>\n",
       "      <th></th>\n",
       "      <th></th>\n",
       "      <th></th>\n",
       "      <th></th>\n",
       "      <th></th>\n",
       "      <th></th>\n",
       "    </tr>\n",
       "  </thead>\n",
       "  <tbody>\n",
       "    <tr>\n",
       "      <th>2022-09-27 04:00:00+00:00</th>\n",
       "      <td>95.96</td>\n",
       "      <td>96.075</td>\n",
       "      <td>95.375</td>\n",
       "      <td>95.54</td>\n",
       "      <td>11400353</td>\n",
       "      <td>35134</td>\n",
       "      <td>95.649073</td>\n",
       "      <td>368.01</td>\n",
       "      <td>370.4</td>\n",
       "      <td>360.87</td>\n",
       "      <td>363.38</td>\n",
       "      <td>105884493</td>\n",
       "      <td>771522</td>\n",
       "      <td>364.580711</td>\n",
       "    </tr>\n",
       "  </tbody>\n",
       "</table>\n",
       "</div>"
      ],
      "text/plain": [
       "                             AGG                                               \\\n",
       "                            open    high     low  close    volume trade_count   \n",
       "timestamp                                                                       \n",
       "2022-09-27 04:00:00+00:00  95.96  96.075  95.375  95.54  11400353       35134   \n",
       "\n",
       "                                         SPY                         \\\n",
       "                                vwap    open   high     low   close   \n",
       "timestamp                                                             \n",
       "2022-09-27 04:00:00+00:00  95.649073  368.01  370.4  360.87  363.38   \n",
       "\n",
       "                                                              \n",
       "                              volume trade_count        vwap  \n",
       "timestamp                                                     \n",
       "2022-09-27 04:00:00+00:00  105884493      771522  364.580711  "
      ]
     },
     "execution_count": 17,
     "metadata": {},
     "output_type": "execute_result"
    }
   ],
   "source": [
    "# Use the Alpaca get_bars function to get current closing prices the portfolio\n",
    "# Be sure to set the `df` property after the function to format the response object as a DataFrame\n",
    "df_investments = alpaca.get_bars(\n",
    "    tickers,\n",
    "    timeframe,\n",
    "    start = today,\n",
    "    end = today\n",
    ").df\n",
    "\n",
    "\n",
    "# Reorganize the DataFrame\n",
    "# Separate ticker data\n",
    "AGG = df_investments[df_investments['symbol']=='AGG'].drop('symbol', axis=1)\n",
    "SPY = df_investments[df_investments['symbol']=='SPY'].drop('symbol', axis=1)\n",
    "\n",
    "# Concatenate the ticker DataFrames\n",
    "df_investments = pd.concat([AGG, SPY],axis=1, keys=['AGG','SPY'])\n",
    "\n",
    "# Review the first 5 rows of the Alpaca DataFrame\n",
    "df_investments.head()\n"
   ]
  },
  {
   "cell_type": "markdown",
   "metadata": {},
   "source": [
    "#### Step 5: Navigating the Alpaca response DataFrame, select the `SPY` and `AGG` closing prices, and store them as variables."
   ]
  },
  {
   "cell_type": "code",
   "execution_count": 18,
   "metadata": {},
   "outputs": [
    {
     "name": "stdout",
     "output_type": "stream",
     "text": [
      "95.54\n"
     ]
    }
   ],
   "source": [
    "# Access the closing price for AGG from the Alpaca DataFrame\n",
    "# Converting the value to a floating point number\n",
    "agg_close_price = float(df_investments['AGG']['close'])\n",
    "\n",
    "# Print the AGG closing price\n",
    "print(agg_close_price)\n"
   ]
  },
  {
   "cell_type": "code",
   "execution_count": 19,
   "metadata": {},
   "outputs": [
    {
     "name": "stdout",
     "output_type": "stream",
     "text": [
      "363.38\n"
     ]
    }
   ],
   "source": [
    "# Access the closing price for SPY from the Alpaca DataFrame\n",
    "# Converting the value to a floating point number\n",
    "spy_close_price = float(df_investments['SPY']['close'])\n",
    "\n",
    "# Print the SPY closing price\n",
    "print(spy_close_price)"
   ]
  },
  {
   "cell_type": "markdown",
   "metadata": {},
   "source": [
    "#### Step 6: Calculate the value, in US dollars, of the current amount of shares in each of the stock and bond portions of the portfolio, and print the results."
   ]
  },
  {
   "cell_type": "code",
   "execution_count": 20,
   "metadata": {},
   "outputs": [
    {
     "name": "stdout",
     "output_type": "stream",
     "text": [
      "19108.0\n"
     ]
    }
   ],
   "source": [
    "# Calculate the current value of the bond portion of the portfolio\n",
    "agg_value = agg_shares * agg_close_price\n",
    "\n",
    "# Print the current value of the bond portfolio\n",
    "print(agg_value)"
   ]
  },
  {
   "cell_type": "code",
   "execution_count": 21,
   "metadata": {},
   "outputs": [
    {
     "name": "stdout",
     "output_type": "stream",
     "text": [
      "39971.8\n"
     ]
    }
   ],
   "source": [
    "# Calculate the current value of the stock portion of the portfolio\n",
    "spy_value = spy_shares * spy_close_price\n",
    "\n",
    "# Print the current value of the stock portfolio\n",
    "print(spy_value)"
   ]
  },
  {
   "cell_type": "code",
   "execution_count": 22,
   "metadata": {},
   "outputs": [
    {
     "name": "stdout",
     "output_type": "stream",
     "text": [
      "59079.8\n"
     ]
    }
   ],
   "source": [
    "# Calculate the total value of the stock and bond portion of the portfolio\n",
    "total_stocks_bonds = agg_value + spy_value\n",
    "\n",
    "# Print the current balance of the stock and bond portion of the portfolio\n",
    "print(total_stocks_bonds)"
   ]
  },
  {
   "cell_type": "code",
   "execution_count": 23,
   "metadata": {},
   "outputs": [
    {
     "name": "stdout",
     "output_type": "stream",
     "text": [
      "88869.244\n"
     ]
    }
   ],
   "source": [
    "# Calculate the total value of the member's entire savings portfolio\n",
    "# Add the value of the cryptocurrency walled to the value of the total stocks and bonds\n",
    "total_portfolio = total_crypto_wallet + total_stocks_bonds\n",
    "\n",
    "# Print current cryptocurrency wallet balance\n",
    "print(total_portfolio)"
   ]
  },
  {
   "cell_type": "markdown",
   "metadata": {},
   "source": [
    "### Evaluate the Emergency Fund\n",
    "\n",
    "In this section, you’ll use the valuations for the cryptocurrency wallet and for the stock and bond portions of the portfolio to determine if the credit union member has enough savings to build an emergency fund into their financial plan. To do this, complete the following steps:\n",
    "\n",
    "1. Create a Python list named `savings_data` that has two elements. The first element contains the total value of the cryptocurrency wallet. The second element contains the total value of the stock and bond portions of the portfolio.\n",
    "\n",
    "2. Use the `savings_data` list to create a Pandas DataFrame named `savings_df`, and then display this DataFrame. The function to create the DataFrame should take the following three parameters:\n",
    "\n",
    "    - `savings_data`: Use the list that you just created.\n",
    "\n",
    "    - `columns`: Set this parameter equal to a Python list with a single value called `amount`.\n",
    "\n",
    "    - `index`: Set this parameter equal to a Python list with the values of `crypto` and `stock/bond`.\n",
    "\n",
    "3. Use the `savings_df` DataFrame to plot a pie chart that visualizes the composition of the member’s portfolio. The y-axis of the pie chart uses `amount`. Be sure to add a title.\n",
    "\n",
    "4. Using Python, determine if the current portfolio has enough to create an emergency fund as part of the member’s financial plan. Ideally, an emergency fund should equal to three times the member’s monthly income. To do this, implement the following steps:\n",
    "\n",
    "    1. Create a variable named `emergency_fund_value`, and set it equal to three times the value of the member’s `monthly_income` of $12000. (You set this earlier in Part 1).\n",
    "\n",
    "    2. Create a series of three if statements to determine if the member’s total portfolio is large enough to fund the emergency portfolio:\n",
    "\n",
    "        1. If the total portfolio value is greater than the emergency fund value, display a message congratulating the member for having enough money in this fund.\n",
    "\n",
    "        2. Else if the total portfolio value is equal to the emergency fund value, display a message congratulating the member on reaching this important financial goal.\n",
    "\n",
    "        3. Else the total portfolio is less than the emergency fund value, so display a message showing how many dollars away the member is from reaching the goal. (Subtract the total portfolio value from the emergency fund value.)\n"
   ]
  },
  {
   "cell_type": "markdown",
   "metadata": {},
   "source": [
    "#### Step 1: Create a Python list named `savings_data` that has two elements. The first element contains the total value of the cryptocurrency wallet. The second element contains the total value of the stock and bond portions of the portfolio."
   ]
  },
  {
   "cell_type": "code",
   "execution_count": 24,
   "metadata": {},
   "outputs": [
    {
     "name": "stdout",
     "output_type": "stream",
     "text": [
      "[29789.444, 59079.8]\n"
     ]
    }
   ],
   "source": [
    "# Consolidate financial assets data into a Python list\n",
    "savings_data = [total_crypto_wallet, total_stocks_bonds]\n",
    "\n",
    "# Review the Python list savings_data\n",
    "print(savings_data)\n",
    "    "
   ]
  },
  {
   "cell_type": "markdown",
   "metadata": {},
   "source": [
    "#### Step 2: Use the `savings_data` list to create a Pandas DataFrame named `savings_df`, and then display this DataFrame. The function to create the DataFrame should take the following three parameters:\n",
    "\n",
    "- `savings_data`: Use the list that you just created.\n",
    "\n",
    "- `columns`: Set this parameter equal to a Python list with a single value called `amount`.\n",
    "\n",
    "- `index`: Set this parameter equal to a Python list with the values of `crypto` and `stock/bond`.\n"
   ]
  },
  {
   "cell_type": "code",
   "execution_count": 25,
   "metadata": {},
   "outputs": [
    {
     "data": {
      "text/html": [
       "<div>\n",
       "<style scoped>\n",
       "    .dataframe tbody tr th:only-of-type {\n",
       "        vertical-align: middle;\n",
       "    }\n",
       "\n",
       "    .dataframe tbody tr th {\n",
       "        vertical-align: top;\n",
       "    }\n",
       "\n",
       "    .dataframe thead th {\n",
       "        text-align: right;\n",
       "    }\n",
       "</style>\n",
       "<table border=\"1\" class=\"dataframe\">\n",
       "  <thead>\n",
       "    <tr style=\"text-align: right;\">\n",
       "      <th></th>\n",
       "      <th>Amount</th>\n",
       "    </tr>\n",
       "  </thead>\n",
       "  <tbody>\n",
       "    <tr>\n",
       "      <th>Crypto</th>\n",
       "      <td>29789.444</td>\n",
       "    </tr>\n",
       "    <tr>\n",
       "      <th>Stocks and Bonds</th>\n",
       "      <td>59079.800</td>\n",
       "    </tr>\n",
       "  </tbody>\n",
       "</table>\n",
       "</div>"
      ],
      "text/plain": [
       "                     Amount\n",
       "Crypto            29789.444\n",
       "Stocks and Bonds  59079.800"
      ]
     },
     "execution_count": 25,
     "metadata": {},
     "output_type": "execute_result"
    }
   ],
   "source": [
    "# Create a Pandas DataFrame called savings_df \n",
    "savings_df = pd.DataFrame(savings_data,\n",
    "                         columns = [\"Amount\"], \n",
    "                         index = [\"Crypto\",\"Stocks and Bonds\"])\n",
    "# Display the savings_df DataFrame\n",
    "savings_df"
   ]
  },
  {
   "cell_type": "markdown",
   "metadata": {},
   "source": [
    "#### Step 3: Use the `savings_df` DataFrame to plot a pie chart that visualizes the composition of the member’s portfolio. The y-axis of the pie chart uses `amount`. Be sure to add a title."
   ]
  },
  {
   "cell_type": "code",
   "execution_count": 26,
   "metadata": {},
   "outputs": [
    {
     "data": {
      "text/plain": [
       "<AxesSubplot:title={'center':'Portfolio Composition'}, ylabel='Amount'>"
      ]
     },
     "execution_count": 26,
     "metadata": {},
     "output_type": "execute_result"
    },
    {
     "data": {
      "image/png": "[encoded data removed]",
      "text/plain": [
       "<Figure size 432x288 with 1 Axes>"
      ]
     },
     "metadata": {},
     "output_type": "display_data"
    }
   ],
   "source": [
    "# Plot the total value of the member's portfolio (crypto and stock/bond) in a pie chart\n",
    "savings_df.plot(kind=\"pie\", title = \"Portfolio Composition\", y = \"Amount\")"
   ]
  },
  {
   "cell_type": "markdown",
   "metadata": {},
   "source": [
    "#### Step 4: Using Python, determine if the current portfolio has enough to create an emergency fund as part of the member’s financial plan. Ideally, an emergency fund should equal to three times the member’s monthly income. To do this, implement the following steps:\n",
    "\n",
    "Step 1. Create a variable named `emergency_fund_value`, and set it equal to three times the value of the member’s `monthly_income` of 12000. (You set this earlier in Part 1).\n",
    "\n",
    "Step 2. Create a series of three if statements to determine if the member’s total portfolio is large enough to fund the emergency portfolio:\n",
    "\n",
    "* If the total portfolio value is greater than the emergency fund value, display a message congratulating the member for having enough money in this fund.\n",
    "\n",
    "* Else if the total portfolio value is equal to the emergency fund value, display a message congratulating the member on reaching this important financial goal.\n",
    "\n",
    "* Else the total portfolio is less than the emergency fund value, so display a message showing how many dollars away the member is from reaching the goal. (Subtract the total portfolio value from the emergency fund value.)\n"
   ]
  },
  {
   "cell_type": "markdown",
   "metadata": {},
   "source": [
    "##### Step 4-1: Create a variable named `emergency_fund_value`, and set it equal to three times the value of the member’s `monthly_income` of 12000. (You set this earlier in Part 1)."
   ]
  },
  {
   "cell_type": "code",
   "execution_count": 27,
   "metadata": {},
   "outputs": [
    {
     "name": "stdout",
     "output_type": "stream",
     "text": [
      "36000\n"
     ]
    }
   ],
   "source": [
    "# Create a variable named emergency_fund_value\n",
    "emergency_fund_value = 3 * monthly_income\n",
    "print(emergency_fund_value)\n"
   ]
  },
  {
   "cell_type": "markdown",
   "metadata": {},
   "source": [
    "##### Step 4-2: Create a series of three if statements to determine if the member’s total portfolio is large enough to fund the emergency portfolio:\n",
    "\n",
    "* If the total portfolio value is greater than the emergency fund value, display a message congratulating the member for having enough money in this fund.\n",
    "\n",
    "* Else if the total portfolio value is equal to the emergency fund value, display a message congratulating the member on reaching this important financial goal.\n",
    "\n",
    "* Else the total portfolio is less than the emergency fund value, so display a message showing how many dollars away the member is from reaching the goal. (Subtract the total portfolio value from the emergency fund value.)"
   ]
  },
  {
   "cell_type": "code",
   "execution_count": 28,
   "metadata": {},
   "outputs": [
    {
     "name": "stdout",
     "output_type": "stream",
     "text": [
      "Congratulations! You have enough funds in case of an emergency!\n"
     ]
    }
   ],
   "source": [
    "# Evaluate the possibility of creating an emergency fund with 3 conditions:\n",
    "if total_portfolio > emergency_fund_value:\n",
    "    print(f'Congratulations! You have enough funds in case of an emergency!')\n",
    "elif total_portfolio == emergency_fund_value:\n",
    "    print(f'Congrats on reaching this financial goal!')\n",
    "else: \n",
    "    print(f'You are currently ${emergency_fund_value - total_portfolio_value} away from reaching your goal')\n",
    "\n"
   ]
  },
  {
   "cell_type": "markdown",
   "metadata": {},
   "source": [
    "## Part 2: Create a Financial Planner for Retirement"
   ]
  },
  {
   "cell_type": "markdown",
   "metadata": {},
   "source": [
    "### Create the Monte Carlo Simulation\n",
    "\n",
    "In this section, you’ll use the MCForecastTools library to create a Monte Carlo simulation for the member’s savings portfolio. To do this, complete the following steps:\n",
    "\n",
    "1. Make an API call via the Alpaca SDK to get 3 years of historical closing prices for a traditional 60/40 portfolio split: 60% stocks (SPY) and 40% bonds (AGG).\n",
    "\n",
    "2. Run a Monte Carlo simulation of 500 samples and 30 years for the 60/40 portfolio, and then plot the results.The following image shows the overlay line plot resulting from a simulation with these characteristics. However, because a random number generator is used to run each live Monte Carlo simulation, your image will differ slightly from this exact image:\n",
    "\n",
    "![A screenshot depicts the resulting plot.](Images/5-4-monte-carlo-line-plot.png)\n",
    "\n",
    "3. Plot the probability distribution of the Monte Carlo simulation. Plot the probability distribution of the Monte Carlo simulation. The following image shows the histogram plot resulting from a simulation with these characteristics. However, because a random number generator is used to run each live Monte Carlo simulation, your image will differ slightly from this exact image:\n",
    "\n",
    "![A screenshot depicts the histogram plot.](Images/5-4-monte-carlo-histogram.png)\n",
    "\n",
    "4. Generate the summary statistics for the Monte Carlo simulation.\n",
    "\n"
   ]
  },
  {
   "cell_type": "markdown",
   "metadata": {},
   "source": [
    "#### Step 1: Make an API call via the Alpaca SDK to get 3 years of historical closing prices for a traditional 60/40 portfolio split: 60% stocks (SPY) and 40% bonds (AGG)."
   ]
  },
  {
   "cell_type": "code",
   "execution_count": 29,
   "metadata": {},
   "outputs": [],
   "source": [
    "# Set start and end dates of 3 years back from your current date\n",
    "# Alternatively, you can use an end date of 2020-08-07 and work 3 years back from that date \n",
    "start_date = pd.Timestamp(\"2019-09-27\", tz=\"America/New_York\").isoformat()\n",
    "end_date = pd.Timestamp(\"2022-09-27\", tz=\"America/New_York\").isoformat()\n"
   ]
  },
  {
   "cell_type": "code",
   "execution_count": 30,
   "metadata": {},
   "outputs": [
    {
     "data": {
      "text/html": [
       "<div>\n",
       "<style scoped>\n",
       "    .dataframe tbody tr th:only-of-type {\n",
       "        vertical-align: middle;\n",
       "    }\n",
       "\n",
       "    .dataframe tbody tr th {\n",
       "        vertical-align: top;\n",
       "    }\n",
       "\n",
       "    .dataframe thead tr th {\n",
       "        text-align: left;\n",
       "    }\n",
       "\n",
       "    .dataframe thead tr:last-of-type th {\n",
       "        text-align: right;\n",
       "    }\n",
       "</style>\n",
       "<table border=\"1\" class=\"dataframe\">\n",
       "  <thead>\n",
       "    <tr>\n",
       "      <th></th>\n",
       "      <th colspan=\"7\" halign=\"left\">AGG</th>\n",
       "      <th colspan=\"7\" halign=\"left\">SPY</th>\n",
       "    </tr>\n",
       "    <tr>\n",
       "      <th></th>\n",
       "      <th>open</th>\n",
       "      <th>high</th>\n",
       "      <th>low</th>\n",
       "      <th>close</th>\n",
       "      <th>volume</th>\n",
       "      <th>trade_count</th>\n",
       "      <th>vwap</th>\n",
       "      <th>open</th>\n",
       "      <th>high</th>\n",
       "      <th>low</th>\n",
       "      <th>close</th>\n",
       "      <th>volume</th>\n",
       "      <th>trade_count</th>\n",
       "      <th>vwap</th>\n",
       "    </tr>\n",
       "    <tr>\n",
       "      <th>timestamp</th>\n",
       "      <th></th>\n",
       "      <th></th>\n",
       "      <th></th>\n",
       "      <th></th>\n",
       "      <th></th>\n",
       "      <th></th>\n",
       "      <th></th>\n",
       "      <th></th>\n",
       "      <th></th>\n",
       "      <th></th>\n",
       "      <th></th>\n",
       "      <th></th>\n",
       "      <th></th>\n",
       "      <th></th>\n",
       "    </tr>\n",
       "  </thead>\n",
       "  <tbody>\n",
       "    <tr>\n",
       "      <th>2022-09-21 04:00:00+00:00</th>\n",
       "      <td>98.40</td>\n",
       "      <td>98.6001</td>\n",
       "      <td>97.8600</td>\n",
       "      <td>98.55</td>\n",
       "      <td>6674502</td>\n",
       "      <td>32613</td>\n",
       "      <td>98.321112</td>\n",
       "      <td>386.06</td>\n",
       "      <td>389.31</td>\n",
       "      <td>377.3800</td>\n",
       "      <td>377.45</td>\n",
       "      <td>104302139</td>\n",
       "      <td>807310</td>\n",
       "      <td>383.197346</td>\n",
       "    </tr>\n",
       "    <tr>\n",
       "      <th>2022-09-22 04:00:00+00:00</th>\n",
       "      <td>97.90</td>\n",
       "      <td>97.9200</td>\n",
       "      <td>97.4039</td>\n",
       "      <td>97.50</td>\n",
       "      <td>7092118</td>\n",
       "      <td>25072</td>\n",
       "      <td>97.595666</td>\n",
       "      <td>376.50</td>\n",
       "      <td>378.30</td>\n",
       "      <td>373.4400</td>\n",
       "      <td>374.22</td>\n",
       "      <td>88922900</td>\n",
       "      <td>630401</td>\n",
       "      <td>375.330794</td>\n",
       "    </tr>\n",
       "    <tr>\n",
       "      <th>2022-09-23 04:00:00+00:00</th>\n",
       "      <td>97.40</td>\n",
       "      <td>97.4500</td>\n",
       "      <td>96.8900</td>\n",
       "      <td>97.20</td>\n",
       "      <td>11053650</td>\n",
       "      <td>41351</td>\n",
       "      <td>97.135798</td>\n",
       "      <td>370.58</td>\n",
       "      <td>370.62</td>\n",
       "      <td>363.2900</td>\n",
       "      <td>367.95</td>\n",
       "      <td>121574096</td>\n",
       "      <td>838774</td>\n",
       "      <td>367.579806</td>\n",
       "    </tr>\n",
       "    <tr>\n",
       "      <th>2022-09-26 04:00:00+00:00</th>\n",
       "      <td>96.87</td>\n",
       "      <td>96.9100</td>\n",
       "      <td>95.8650</td>\n",
       "      <td>95.95</td>\n",
       "      <td>8467717</td>\n",
       "      <td>32092</td>\n",
       "      <td>96.272680</td>\n",
       "      <td>366.41</td>\n",
       "      <td>370.21</td>\n",
       "      <td>363.0299</td>\n",
       "      <td>364.31</td>\n",
       "      <td>91731346</td>\n",
       "      <td>633024</td>\n",
       "      <td>365.928441</td>\n",
       "    </tr>\n",
       "    <tr>\n",
       "      <th>2022-09-27 04:00:00+00:00</th>\n",
       "      <td>95.96</td>\n",
       "      <td>96.0750</td>\n",
       "      <td>95.3750</td>\n",
       "      <td>95.54</td>\n",
       "      <td>11400353</td>\n",
       "      <td>35134</td>\n",
       "      <td>95.649073</td>\n",
       "      <td>368.01</td>\n",
       "      <td>370.40</td>\n",
       "      <td>360.8700</td>\n",
       "      <td>363.38</td>\n",
       "      <td>105884493</td>\n",
       "      <td>771522</td>\n",
       "      <td>364.580711</td>\n",
       "    </tr>\n",
       "  </tbody>\n",
       "</table>\n",
       "</div>"
      ],
      "text/plain": [
       "                             AGG                                     \\\n",
       "                            open     high      low  close    volume   \n",
       "timestamp                                                             \n",
       "2022-09-21 04:00:00+00:00  98.40  98.6001  97.8600  98.55   6674502   \n",
       "2022-09-22 04:00:00+00:00  97.90  97.9200  97.4039  97.50   7092118   \n",
       "2022-09-23 04:00:00+00:00  97.40  97.4500  96.8900  97.20  11053650   \n",
       "2022-09-26 04:00:00+00:00  96.87  96.9100  95.8650  95.95   8467717   \n",
       "2022-09-27 04:00:00+00:00  95.96  96.0750  95.3750  95.54  11400353   \n",
       "\n",
       "                                                     SPY                    \\\n",
       "                          trade_count       vwap    open    high       low   \n",
       "timestamp                                                                    \n",
       "2022-09-21 04:00:00+00:00       32613  98.321112  386.06  389.31  377.3800   \n",
       "2022-09-22 04:00:00+00:00       25072  97.595666  376.50  378.30  373.4400   \n",
       "2022-09-23 04:00:00+00:00       41351  97.135798  370.58  370.62  363.2900   \n",
       "2022-09-26 04:00:00+00:00       32092  96.272680  366.41  370.21  363.0299   \n",
       "2022-09-27 04:00:00+00:00       35134  95.649073  368.01  370.40  360.8700   \n",
       "\n",
       "                                                                      \n",
       "                            close     volume trade_count        vwap  \n",
       "timestamp                                                             \n",
       "2022-09-21 04:00:00+00:00  377.45  104302139      807310  383.197346  \n",
       "2022-09-22 04:00:00+00:00  374.22   88922900      630401  375.330794  \n",
       "2022-09-23 04:00:00+00:00  367.95  121574096      838774  367.579806  \n",
       "2022-09-26 04:00:00+00:00  364.31   91731346      633024  365.928441  \n",
       "2022-09-27 04:00:00+00:00  363.38  105884493      771522  364.580711  "
      ]
     },
     "execution_count": 30,
     "metadata": {},
     "output_type": "execute_result"
    }
   ],
   "source": [
    "# Use the Alpaca get_bars function to make the API call to get the 3 years worth of pricing data\n",
    "# The tickers and timeframe parameters should have been set in Part 1 of this activity \n",
    "# The start and end dates should be updated with the information set above\n",
    "# Remember to add the df property to the end of the call so the response is returned as a DataFrame\n",
    "df_3yearinvestments = alpaca.get_bars(\n",
    "    tickers,\n",
    "    timeframe,\n",
    "    start=start_date,\n",
    "    end=end_date\n",
    ").df\n",
    "# Reorganize the DataFrame\n",
    "# Separate ticker data\n",
    "AGG = df_3yearinvestments[df_3yearinvestments['symbol']=='AGG'].drop('symbol', axis=1)\n",
    "SPY = df_3yearinvestments[df_3yearinvestments['symbol']=='SPY'].drop('symbol', axis=1)\n",
    "# Concatenate the ticker DataFrames\n",
    "df_3yearinvestments = pd.concat([AGG, SPY],axis=1, keys=['AGG','SPY'])\n",
    "\n",
    "# Display both the first and last five rows of the DataFrame\n",
    "df_3yearinvestments.head()\n",
    "df_3yearinvestments.tail()\n",
    "# YOUR CODE HERE\n"
   ]
  },
  {
   "cell_type": "markdown",
   "metadata": {},
   "source": [
    "#### Step 2: Run a Monte Carlo simulation of 500 samples and 30 years for the 60/40 portfolio, and then plot the results."
   ]
  },
  {
   "cell_type": "code",
   "execution_count": 31,
   "metadata": {},
   "outputs": [],
   "source": [
    "# Configure the Monte Carlo simulation to forecast 30 years cumulative returns\n",
    "# The weights should be split 40% to AGG and 60% to SPY.\n",
    "# Run 500 samples.\n",
    "num_sims = 500\n",
    "# Review the simulation input data\n",
    "mc_3year_investment = MCSimulation (\n",
    "    portfolio_data = df_3yearinvestments,\n",
    "    weights = [0.40,0.60],\n",
    "    num_simulation = num_sims,\n",
    "    num_trading_days = 252*30\n",
    ")"
   ]
  },
  {
   "cell_type": "code",
   "execution_count": 32,
   "metadata": {},
   "outputs": [
    {
     "name": "stdout",
     "output_type": "stream",
     "text": [
      "Running Monte Carlo simulation number 0.\n",
      "Running Monte Carlo simulation number 10.\n",
      "Running Monte Carlo simulation number 20.\n",
      "Running Monte Carlo simulation number 30.\n",
      "Running Monte Carlo simulation number 40.\n",
      "Running Monte Carlo simulation number 50.\n",
      "Running Monte Carlo simulation number 60.\n",
      "Running Monte Carlo simulation number 70.\n",
      "Running Monte Carlo simulation number 80.\n",
      "Running Monte Carlo simulation number 90.\n",
      "Running Monte Carlo simulation number 100.\n",
      "Running Monte Carlo simulation number 110.\n",
      "Running Monte Carlo simulation number 120.\n",
      "Running Monte Carlo simulation number 130.\n",
      "Running Monte Carlo simulation number 140.\n",
      "Running Monte Carlo simulation number 150.\n",
      "Running Monte Carlo simulation number 160.\n",
      "Running Monte Carlo simulation number 170.\n",
      "Running Monte Carlo simulation number 180.\n",
      "Running Monte Carlo simulation number 190.\n",
      "Running Monte Carlo simulation number 200.\n",
      "Running Monte Carlo simulation number 210.\n",
      "Running Monte Carlo simulation number 220.\n",
      "Running Monte Carlo simulation number 230.\n",
      "Running Monte Carlo simulation number 240.\n",
      "Running Monte Carlo simulation number 250.\n",
      "Running Monte Carlo simulation number 260.\n",
      "Running Monte Carlo simulation number 270.\n",
      "Running Monte Carlo simulation number 280.\n",
      "Running Monte Carlo simulation number 290.\n",
      "Running Monte Carlo simulation number 300.\n",
      "Running Monte Carlo simulation number 310.\n",
      "Running Monte Carlo simulation number 320.\n",
      "Running Monte Carlo simulation number 330.\n",
      "Running Monte Carlo simulation number 340.\n",
      "Running Monte Carlo simulation number 350.\n",
      "Running Monte Carlo simulation number 360.\n",
      "Running Monte Carlo simulation number 370.\n",
      "Running Monte Carlo simulation number 380.\n",
      "Running Monte Carlo simulation number 390.\n",
      "Running Monte Carlo simulation number 400.\n",
      "Running Monte Carlo simulation number 410.\n",
      "Running Monte Carlo simulation number 420.\n",
      "Running Monte Carlo simulation number 430.\n",
      "Running Monte Carlo simulation number 440.\n",
      "Running Monte Carlo simulation number 450.\n",
      "Running Monte Carlo simulation number 460.\n",
      "Running Monte Carlo simulation number 470.\n",
      "Running Monte Carlo simulation number 480.\n",
      "Running Monte Carlo simulation number 490.\n"
     ]
    },
    {
     "data": {
      "text/html": [
       "<div>\n",
       "<style scoped>\n",
       "    .dataframe tbody tr th:only-of-type {\n",
       "        vertical-align: middle;\n",
       "    }\n",
       "\n",
       "    .dataframe tbody tr th {\n",
       "        vertical-align: top;\n",
       "    }\n",
       "\n",
       "    .dataframe thead th {\n",
       "        text-align: right;\n",
       "    }\n",
       "</style>\n",
       "<table border=\"1\" class=\"dataframe\">\n",
       "  <thead>\n",
       "    <tr style=\"text-align: right;\">\n",
       "      <th></th>\n",
       "      <th>0</th>\n",
       "      <th>1</th>\n",
       "      <th>2</th>\n",
       "      <th>3</th>\n",
       "      <th>4</th>\n",
       "      <th>5</th>\n",
       "      <th>6</th>\n",
       "      <th>7</th>\n",
       "      <th>8</th>\n",
       "      <th>9</th>\n",
       "      <th>...</th>\n",
       "      <th>490</th>\n",
       "      <th>491</th>\n",
       "      <th>492</th>\n",
       "      <th>493</th>\n",
       "      <th>494</th>\n",
       "      <th>495</th>\n",
       "      <th>496</th>\n",
       "      <th>497</th>\n",
       "      <th>498</th>\n",
       "      <th>499</th>\n",
       "    </tr>\n",
       "  </thead>\n",
       "  <tbody>\n",
       "    <tr>\n",
       "      <th>0</th>\n",
       "      <td>1.000000</td>\n",
       "      <td>1.000000</td>\n",
       "      <td>1.000000</td>\n",
       "      <td>1.000000</td>\n",
       "      <td>1.000000</td>\n",
       "      <td>1.000000</td>\n",
       "      <td>1.000000</td>\n",
       "      <td>1.000000</td>\n",
       "      <td>1.000000</td>\n",
       "      <td>1.000000</td>\n",
       "      <td>...</td>\n",
       "      <td>1.000000</td>\n",
       "      <td>1.000000</td>\n",
       "      <td>1.000000</td>\n",
       "      <td>1.000000</td>\n",
       "      <td>1.000000</td>\n",
       "      <td>1.000000</td>\n",
       "      <td>1.000000</td>\n",
       "      <td>1.000000</td>\n",
       "      <td>1.000000</td>\n",
       "      <td>1.000000</td>\n",
       "    </tr>\n",
       "    <tr>\n",
       "      <th>1</th>\n",
       "      <td>1.004592</td>\n",
       "      <td>0.982698</td>\n",
       "      <td>0.996700</td>\n",
       "      <td>0.978616</td>\n",
       "      <td>0.998228</td>\n",
       "      <td>1.009964</td>\n",
       "      <td>0.988594</td>\n",
       "      <td>0.984088</td>\n",
       "      <td>1.000060</td>\n",
       "      <td>0.987882</td>\n",
       "      <td>...</td>\n",
       "      <td>1.005725</td>\n",
       "      <td>1.002920</td>\n",
       "      <td>1.002537</td>\n",
       "      <td>1.019507</td>\n",
       "      <td>0.990929</td>\n",
       "      <td>1.008577</td>\n",
       "      <td>0.995323</td>\n",
       "      <td>0.984991</td>\n",
       "      <td>1.014282</td>\n",
       "      <td>1.001354</td>\n",
       "    </tr>\n",
       "    <tr>\n",
       "      <th>2</th>\n",
       "      <td>1.005777</td>\n",
       "      <td>0.994714</td>\n",
       "      <td>1.021762</td>\n",
       "      <td>0.979030</td>\n",
       "      <td>0.997648</td>\n",
       "      <td>1.001750</td>\n",
       "      <td>0.986484</td>\n",
       "      <td>0.962469</td>\n",
       "      <td>0.984227</td>\n",
       "      <td>0.988896</td>\n",
       "      <td>...</td>\n",
       "      <td>1.007583</td>\n",
       "      <td>1.012801</td>\n",
       "      <td>1.006073</td>\n",
       "      <td>1.013975</td>\n",
       "      <td>0.987752</td>\n",
       "      <td>1.015424</td>\n",
       "      <td>0.974320</td>\n",
       "      <td>0.992962</td>\n",
       "      <td>1.022863</td>\n",
       "      <td>0.988982</td>\n",
       "    </tr>\n",
       "    <tr>\n",
       "      <th>3</th>\n",
       "      <td>1.009568</td>\n",
       "      <td>0.978957</td>\n",
       "      <td>1.016963</td>\n",
       "      <td>0.963447</td>\n",
       "      <td>0.996515</td>\n",
       "      <td>0.991102</td>\n",
       "      <td>0.995476</td>\n",
       "      <td>0.959451</td>\n",
       "      <td>0.994324</td>\n",
       "      <td>0.978862</td>\n",
       "      <td>...</td>\n",
       "      <td>1.007622</td>\n",
       "      <td>1.022204</td>\n",
       "      <td>1.013798</td>\n",
       "      <td>1.019680</td>\n",
       "      <td>0.978574</td>\n",
       "      <td>1.020542</td>\n",
       "      <td>0.966545</td>\n",
       "      <td>0.993720</td>\n",
       "      <td>1.025960</td>\n",
       "      <td>0.995938</td>\n",
       "    </tr>\n",
       "    <tr>\n",
       "      <th>4</th>\n",
       "      <td>1.013143</td>\n",
       "      <td>0.977358</td>\n",
       "      <td>1.026899</td>\n",
       "      <td>0.950775</td>\n",
       "      <td>1.004230</td>\n",
       "      <td>0.995832</td>\n",
       "      <td>0.988075</td>\n",
       "      <td>0.952861</td>\n",
       "      <td>0.992796</td>\n",
       "      <td>0.981038</td>\n",
       "      <td>...</td>\n",
       "      <td>0.998220</td>\n",
       "      <td>1.002568</td>\n",
       "      <td>1.000570</td>\n",
       "      <td>1.020105</td>\n",
       "      <td>0.986596</td>\n",
       "      <td>1.012484</td>\n",
       "      <td>0.965228</td>\n",
       "      <td>1.001580</td>\n",
       "      <td>1.026262</td>\n",
       "      <td>0.999404</td>\n",
       "    </tr>\n",
       "    <tr>\n",
       "      <th>...</th>\n",
       "      <td>...</td>\n",
       "      <td>...</td>\n",
       "      <td>...</td>\n",
       "      <td>...</td>\n",
       "      <td>...</td>\n",
       "      <td>...</td>\n",
       "      <td>...</td>\n",
       "      <td>...</td>\n",
       "      <td>...</td>\n",
       "      <td>...</td>\n",
       "      <td>...</td>\n",
       "      <td>...</td>\n",
       "      <td>...</td>\n",
       "      <td>...</td>\n",
       "      <td>...</td>\n",
       "      <td>...</td>\n",
       "      <td>...</td>\n",
       "      <td>...</td>\n",
       "      <td>...</td>\n",
       "      <td>...</td>\n",
       "      <td>...</td>\n",
       "    </tr>\n",
       "    <tr>\n",
       "      <th>7556</th>\n",
       "      <td>4.154708</td>\n",
       "      <td>2.370829</td>\n",
       "      <td>2.518085</td>\n",
       "      <td>2.683902</td>\n",
       "      <td>2.459433</td>\n",
       "      <td>3.497723</td>\n",
       "      <td>6.433982</td>\n",
       "      <td>1.230442</td>\n",
       "      <td>2.846553</td>\n",
       "      <td>0.942885</td>\n",
       "      <td>...</td>\n",
       "      <td>3.525284</td>\n",
       "      <td>3.171735</td>\n",
       "      <td>6.627480</td>\n",
       "      <td>4.184402</td>\n",
       "      <td>1.846917</td>\n",
       "      <td>2.057755</td>\n",
       "      <td>0.352393</td>\n",
       "      <td>9.401160</td>\n",
       "      <td>3.289853</td>\n",
       "      <td>2.737633</td>\n",
       "    </tr>\n",
       "    <tr>\n",
       "      <th>7557</th>\n",
       "      <td>4.255035</td>\n",
       "      <td>2.388820</td>\n",
       "      <td>2.536043</td>\n",
       "      <td>2.700195</td>\n",
       "      <td>2.433815</td>\n",
       "      <td>3.501796</td>\n",
       "      <td>6.419568</td>\n",
       "      <td>1.238831</td>\n",
       "      <td>2.867761</td>\n",
       "      <td>0.944668</td>\n",
       "      <td>...</td>\n",
       "      <td>3.494216</td>\n",
       "      <td>3.133342</td>\n",
       "      <td>6.530513</td>\n",
       "      <td>4.192765</td>\n",
       "      <td>1.812079</td>\n",
       "      <td>2.092983</td>\n",
       "      <td>0.361052</td>\n",
       "      <td>9.356535</td>\n",
       "      <td>3.303328</td>\n",
       "      <td>2.754715</td>\n",
       "    </tr>\n",
       "    <tr>\n",
       "      <th>7558</th>\n",
       "      <td>4.244368</td>\n",
       "      <td>2.376018</td>\n",
       "      <td>2.536700</td>\n",
       "      <td>2.722470</td>\n",
       "      <td>2.451174</td>\n",
       "      <td>3.504751</td>\n",
       "      <td>6.556496</td>\n",
       "      <td>1.224386</td>\n",
       "      <td>2.860761</td>\n",
       "      <td>0.944978</td>\n",
       "      <td>...</td>\n",
       "      <td>3.490467</td>\n",
       "      <td>3.135448</td>\n",
       "      <td>6.639040</td>\n",
       "      <td>4.211340</td>\n",
       "      <td>1.818076</td>\n",
       "      <td>2.096968</td>\n",
       "      <td>0.363468</td>\n",
       "      <td>9.214666</td>\n",
       "      <td>3.296676</td>\n",
       "      <td>2.711551</td>\n",
       "    </tr>\n",
       "    <tr>\n",
       "      <th>7559</th>\n",
       "      <td>4.289311</td>\n",
       "      <td>2.350992</td>\n",
       "      <td>2.552153</td>\n",
       "      <td>2.718610</td>\n",
       "      <td>2.479330</td>\n",
       "      <td>3.539088</td>\n",
       "      <td>6.519795</td>\n",
       "      <td>1.217880</td>\n",
       "      <td>2.892569</td>\n",
       "      <td>0.939653</td>\n",
       "      <td>...</td>\n",
       "      <td>3.526082</td>\n",
       "      <td>3.157538</td>\n",
       "      <td>6.648535</td>\n",
       "      <td>4.204991</td>\n",
       "      <td>1.818676</td>\n",
       "      <td>2.077190</td>\n",
       "      <td>0.359479</td>\n",
       "      <td>9.102392</td>\n",
       "      <td>3.296665</td>\n",
       "      <td>2.707288</td>\n",
       "    </tr>\n",
       "    <tr>\n",
       "      <th>7560</th>\n",
       "      <td>4.344530</td>\n",
       "      <td>2.336485</td>\n",
       "      <td>2.565008</td>\n",
       "      <td>2.696850</td>\n",
       "      <td>2.499256</td>\n",
       "      <td>3.512402</td>\n",
       "      <td>6.476000</td>\n",
       "      <td>1.211417</td>\n",
       "      <td>2.900796</td>\n",
       "      <td>0.943312</td>\n",
       "      <td>...</td>\n",
       "      <td>3.550784</td>\n",
       "      <td>3.150990</td>\n",
       "      <td>6.689618</td>\n",
       "      <td>4.182380</td>\n",
       "      <td>1.827035</td>\n",
       "      <td>2.067990</td>\n",
       "      <td>0.358219</td>\n",
       "      <td>9.160943</td>\n",
       "      <td>3.285634</td>\n",
       "      <td>2.705487</td>\n",
       "    </tr>\n",
       "  </tbody>\n",
       "</table>\n",
       "<p>7561 rows × 500 columns</p>\n",
       "</div>"
      ],
      "text/plain": [
       "           0         1         2         3         4         5         6    \\\n",
       "0     1.000000  1.000000  1.000000  1.000000  1.000000  1.000000  1.000000   \n",
       "1     1.004592  0.982698  0.996700  0.978616  0.998228  1.009964  0.988594   \n",
       "2     1.005777  0.994714  1.021762  0.979030  0.997648  1.001750  0.986484   \n",
       "3     1.009568  0.978957  1.016963  0.963447  0.996515  0.991102  0.995476   \n",
       "4     1.013143  0.977358  1.026899  0.950775  1.004230  0.995832  0.988075   \n",
       "...        ...       ...       ...       ...       ...       ...       ...   \n",
       "7556  4.154708  2.370829  2.518085  2.683902  2.459433  3.497723  6.433982   \n",
       "7557  4.255035  2.388820  2.536043  2.700195  2.433815  3.501796  6.419568   \n",
       "7558  4.244368  2.376018  2.536700  2.722470  2.451174  3.504751  6.556496   \n",
       "7559  4.289311  2.350992  2.552153  2.718610  2.479330  3.539088  6.519795   \n",
       "7560  4.344530  2.336485  2.565008  2.696850  2.499256  3.512402  6.476000   \n",
       "\n",
       "           7         8         9    ...       490       491       492  \\\n",
       "0     1.000000  1.000000  1.000000  ...  1.000000  1.000000  1.000000   \n",
       "1     0.984088  1.000060  0.987882  ...  1.005725  1.002920  1.002537   \n",
       "2     0.962469  0.984227  0.988896  ...  1.007583  1.012801  1.006073   \n",
       "3     0.959451  0.994324  0.978862  ...  1.007622  1.022204  1.013798   \n",
       "4     0.952861  0.992796  0.981038  ...  0.998220  1.002568  1.000570   \n",
       "...        ...       ...       ...  ...       ...       ...       ...   \n",
       "7556  1.230442  2.846553  0.942885  ...  3.525284  3.171735  6.627480   \n",
       "7557  1.238831  2.867761  0.944668  ...  3.494216  3.133342  6.530513   \n",
       "7558  1.224386  2.860761  0.944978  ...  3.490467  3.135448  6.639040   \n",
       "7559  1.217880  2.892569  0.939653  ...  3.526082  3.157538  6.648535   \n",
       "7560  1.211417  2.900796  0.943312  ...  3.550784  3.150990  6.689618   \n",
       "\n",
       "           493       494       495       496       497       498       499  \n",
       "0     1.000000  1.000000  1.000000  1.000000  1.000000  1.000000  1.000000  \n",
       "1     1.019507  0.990929  1.008577  0.995323  0.984991  1.014282  1.001354  \n",
       "2     1.013975  0.987752  1.015424  0.974320  0.992962  1.022863  0.988982  \n",
       "3     1.019680  0.978574  1.020542  0.966545  0.993720  1.025960  0.995938  \n",
       "4     1.020105  0.986596  1.012484  0.965228  1.001580  1.026262  0.999404  \n",
       "...        ...       ...       ...       ...       ...       ...       ...  \n",
       "7556  4.184402  1.846917  2.057755  0.352393  9.401160  3.289853  2.737633  \n",
       "7557  4.192765  1.812079  2.092983  0.361052  9.356535  3.303328  2.754715  \n",
       "7558  4.211340  1.818076  2.096968  0.363468  9.214666  3.296676  2.711551  \n",
       "7559  4.204991  1.818676  2.077190  0.359479  9.102392  3.296665  2.707288  \n",
       "7560  4.182380  1.827035  2.067990  0.358219  9.160943  3.285634  2.705487  \n",
       "\n",
       "[7561 rows x 500 columns]"
      ]
     },
     "execution_count": 32,
     "metadata": {},
     "output_type": "execute_result"
    }
   ],
   "source": [
    "# Run the Monte Carlo simulation to forecast 30 years cumulative returns\n",
    "mc_3year_investment.calc_cumulative_return()"
   ]
  },
  {
   "cell_type": "code",
   "execution_count": 33,
   "metadata": {},
   "outputs": [
    {
     "data": {
      "image/png": "[encoded data removed]",
      "text/plain": [
       "<Figure size 432x288 with 1 Axes>"
      ]
     },
     "metadata": {
      "needs_background": "light"
     },
     "output_type": "display_data"
    }
   ],
   "source": [
    "# Visualize the 30-year Monte Carlo simulation by creating an\n",
    "MC_future_plot = mc_3year_investment.plot_simulation()\n",
    "\n",
    "MC_future_plot.get_figure().savefig(\"MC_future_3year_plot.png\",bbox_inches = \"tight\")"
   ]
  },
  {
   "cell_type": "markdown",
   "metadata": {},
   "source": [
    "#### Step 3: Plot the probability distribution of the Monte Carlo simulation."
   ]
  },
  {
   "cell_type": "code",
   "execution_count": 34,
   "metadata": {},
   "outputs": [
    {
     "data": {
      "image/png": "[encoded data removed]",
      "text/plain": [
       "<Figure size 432x288 with 1 Axes>"
      ]
     },
     "metadata": {
      "needs_background": "light"
     },
     "output_type": "display_data"
    }
   ],
   "source": [
    "# Visualize the probability distribution of the 30-year Monte Carlo simulation \n",
    "# by plotting a histogram\n",
    "MC_sim_dist_plot = mc_3year_investment.plot_distribution()"
   ]
  },
  {
   "cell_type": "markdown",
   "metadata": {},
   "source": [
    "#### Step 4: Generate the summary statistics for the Monte Carlo simulation."
   ]
  },
  {
   "cell_type": "code",
   "execution_count": 35,
   "metadata": {},
   "outputs": [
    {
     "name": "stdout",
     "output_type": "stream",
     "text": [
      "count           500.000000\n",
      "mean              3.023582\n",
      "std               2.641594\n",
      "min               0.183040\n",
      "25%               1.260125\n",
      "50%               2.252244\n",
      "75%               3.799233\n",
      "max              24.253685\n",
      "95% CI Lower      0.428871\n",
      "95% CI Upper      9.690648\n",
      "Name: 7560, dtype: float64\n"
     ]
    }
   ],
   "source": [
    "# Generate summary statistics from the 30-year Monte Carlo simulation results\n",
    "# Save the results as a variable\n",
    "MC_summary_stats = mc_3year_investment.summarize_cumulative_return()\n",
    "\n",
    "# Review the 30-year Monte Carlo summary statistics\n",
    "print(MC_summary_stats)"
   ]
  },
  {
   "cell_type": "markdown",
   "metadata": {},
   "source": [
    "### Analyze the Retirement Portfolio Forecasts\n",
    "\n",
    "Using the current value of only the stock and bond portion of the member's portfolio and the summary statistics that you generated from the Monte Carlo simulation, answer the following question in your Jupyter notebook:\n",
    "\n",
    "-  What are the lower and upper bounds for the expected value of the portfolio with a 95% confidence interval?\n"
   ]
  },
  {
   "cell_type": "code",
   "execution_count": 36,
   "metadata": {},
   "outputs": [
    {
     "name": "stdout",
     "output_type": "stream",
     "text": [
      "59079.8\n"
     ]
    }
   ],
   "source": [
    "# Print the current balance of the stock and bond portion of the members portfolio\n",
    "print(total_stocks_bonds)"
   ]
  },
  {
   "cell_type": "code",
   "execution_count": 45,
   "metadata": {},
   "outputs": [
    {
     "name": "stdout",
     "output_type": "stream",
     "text": [
      "There is a 95% chance that an initial investment of $10,000 in the portfolio over the net 5 years wll end within the range of$ 4288.71 and $ 96906.48.\n"
     ]
    }
   ],
   "source": [
    "# Use the lower and upper `95%` confidence intervals to calculate the range of the possible outcomes for the current stock/bond portfolio\n",
    "ci_lower_thirty_cumulative_return = MC_summary_stats[8]*10000\n",
    "ci_upper_thirty_cumulative_return = MC_summary_stats[9]*10000\n",
    "\n",
    "# Print the result of your calculations\n",
    "print (f'There is a 95% chance that an initial investment of $10,000 in the portfolio ' \n",
    "       f'over the net 30 years wll end within the range of'\n",
    "       f'${ci_lower_thirty_cumulative_return: .2f} and ${ci_upper_thirty_cumulative_return: .2f}.')"
   ]
  },
  {
   "cell_type": "markdown",
   "metadata": {},
   "source": [
    "### Forecast Cumulative Returns in 10 Years\n",
    "\n",
    "The CTO of the credit union is impressed with your work on these planning tools but wonders if 30 years is a long time to wait until retirement. So, your next task is to adjust the retirement portfolio and run a new Monte Carlo simulation to find out if the changes will allow members to retire earlier.\n",
    "\n",
    "For this new Monte Carlo simulation, do the following: \n",
    "\n",
    "- Forecast the cumulative returns for 10 years from now. Because of the shortened investment horizon (30 years to 10 years), the portfolio needs to invest more heavily in the riskier asset&mdash;that is, stock&mdash;to help accumulate wealth for retirement. \n",
    "\n",
    "- Adjust the weights of the retirement portfolio so that the composition for the Monte Carlo simulation consists of 20% bonds and 80% stocks. \n",
    "\n",
    "- Run the simulation over 500 samples, and use the same data that the API call to Alpaca generated.\n",
    "\n",
    "- Based on the new Monte Carlo simulation, answer the following questions in your Jupyter notebook:\n",
    "\n",
    "    - Using the current value of only the stock and bond portion of the member's portfolio and the summary statistics that you generated from the new Monte Carlo simulation, what are the lower and upper bounds for the expected value of the portfolio (with the new weights) with a 95% confidence interval?\n",
    "\n",
    "    - Will weighting the portfolio more heavily toward stocks allow the credit union members to retire after only 10 years?\n"
   ]
  },
  {
   "cell_type": "code",
   "execution_count": 38,
   "metadata": {},
   "outputs": [],
   "source": [
    "# Configure a Monte Carlo simulation to forecast 10 years cumulative returns\n",
    "# The weights should be split 20% to AGG and 80% to SPY.\n",
    "# Run 500 samples.\n",
    "num_sims = 500\n",
    "# Review the simulation input data\n",
    "mc_10year_investment = MCSimulation (\n",
    "    portfolio_data = df_3yearinvestments,\n",
    "    weights = [0.20,0.80],\n",
    "    num_simulation = num_sims,\n",
    "    num_trading_days = 252*10\n",
    ")\n",
    "\n"
   ]
  },
  {
   "cell_type": "code",
   "execution_count": 39,
   "metadata": {},
   "outputs": [
    {
     "name": "stdout",
     "output_type": "stream",
     "text": [
      "Running Monte Carlo simulation number 0.\n",
      "Running Monte Carlo simulation number 10.\n",
      "Running Monte Carlo simulation number 20.\n",
      "Running Monte Carlo simulation number 30.\n",
      "Running Monte Carlo simulation number 40.\n",
      "Running Monte Carlo simulation number 50.\n",
      "Running Monte Carlo simulation number 60.\n",
      "Running Monte Carlo simulation number 70.\n",
      "Running Monte Carlo simulation number 80.\n",
      "Running Monte Carlo simulation number 90.\n",
      "Running Monte Carlo simulation number 100.\n",
      "Running Monte Carlo simulation number 110.\n",
      "Running Monte Carlo simulation number 120.\n",
      "Running Monte Carlo simulation number 130.\n",
      "Running Monte Carlo simulation number 140.\n",
      "Running Monte Carlo simulation number 150.\n",
      "Running Monte Carlo simulation number 160.\n",
      "Running Monte Carlo simulation number 170.\n",
      "Running Monte Carlo simulation number 180.\n",
      "Running Monte Carlo simulation number 190.\n",
      "Running Monte Carlo simulation number 200.\n",
      "Running Monte Carlo simulation number 210.\n",
      "Running Monte Carlo simulation number 220.\n",
      "Running Monte Carlo simulation number 230.\n",
      "Running Monte Carlo simulation number 240.\n",
      "Running Monte Carlo simulation number 250.\n",
      "Running Monte Carlo simulation number 260.\n",
      "Running Monte Carlo simulation number 270.\n",
      "Running Monte Carlo simulation number 280.\n",
      "Running Monte Carlo simulation number 290.\n",
      "Running Monte Carlo simulation number 300.\n",
      "Running Monte Carlo simulation number 310.\n",
      "Running Monte Carlo simulation number 320.\n",
      "Running Monte Carlo simulation number 330.\n",
      "Running Monte Carlo simulation number 340.\n",
      "Running Monte Carlo simulation number 350.\n",
      "Running Monte Carlo simulation number 360.\n",
      "Running Monte Carlo simulation number 370.\n",
      "Running Monte Carlo simulation number 380.\n",
      "Running Monte Carlo simulation number 390.\n",
      "Running Monte Carlo simulation number 400.\n",
      "Running Monte Carlo simulation number 410.\n",
      "Running Monte Carlo simulation number 420.\n",
      "Running Monte Carlo simulation number 430.\n",
      "Running Monte Carlo simulation number 440.\n",
      "Running Monte Carlo simulation number 450.\n",
      "Running Monte Carlo simulation number 460.\n",
      "Running Monte Carlo simulation number 470.\n",
      "Running Monte Carlo simulation number 480.\n",
      "Running Monte Carlo simulation number 490.\n"
     ]
    },
    {
     "data": {
      "text/html": [
       "<div>\n",
       "<style scoped>\n",
       "    .dataframe tbody tr th:only-of-type {\n",
       "        vertical-align: middle;\n",
       "    }\n",
       "\n",
       "    .dataframe tbody tr th {\n",
       "        vertical-align: top;\n",
       "    }\n",
       "\n",
       "    .dataframe thead th {\n",
       "        text-align: right;\n",
       "    }\n",
       "</style>\n",
       "<table border=\"1\" class=\"dataframe\">\n",
       "  <thead>\n",
       "    <tr style=\"text-align: right;\">\n",
       "      <th></th>\n",
       "      <th>0</th>\n",
       "      <th>1</th>\n",
       "      <th>2</th>\n",
       "      <th>3</th>\n",
       "      <th>4</th>\n",
       "      <th>5</th>\n",
       "      <th>6</th>\n",
       "      <th>7</th>\n",
       "      <th>8</th>\n",
       "      <th>9</th>\n",
       "      <th>...</th>\n",
       "      <th>490</th>\n",
       "      <th>491</th>\n",
       "      <th>492</th>\n",
       "      <th>493</th>\n",
       "      <th>494</th>\n",
       "      <th>495</th>\n",
       "      <th>496</th>\n",
       "      <th>497</th>\n",
       "      <th>498</th>\n",
       "      <th>499</th>\n",
       "    </tr>\n",
       "  </thead>\n",
       "  <tbody>\n",
       "    <tr>\n",
       "      <th>0</th>\n",
       "      <td>1.000000</td>\n",
       "      <td>1.000000</td>\n",
       "      <td>1.000000</td>\n",
       "      <td>1.000000</td>\n",
       "      <td>1.000000</td>\n",
       "      <td>1.000000</td>\n",
       "      <td>1.000000</td>\n",
       "      <td>1.000000</td>\n",
       "      <td>1.000000</td>\n",
       "      <td>1.000000</td>\n",
       "      <td>...</td>\n",
       "      <td>1.000000</td>\n",
       "      <td>1.000000</td>\n",
       "      <td>1.000000</td>\n",
       "      <td>1.000000</td>\n",
       "      <td>1.000000</td>\n",
       "      <td>1.000000</td>\n",
       "      <td>1.000000</td>\n",
       "      <td>1.000000</td>\n",
       "      <td>1.000000</td>\n",
       "      <td>1.000000</td>\n",
       "    </tr>\n",
       "    <tr>\n",
       "      <th>1</th>\n",
       "      <td>0.984847</td>\n",
       "      <td>1.013581</td>\n",
       "      <td>1.009898</td>\n",
       "      <td>0.996997</td>\n",
       "      <td>1.001137</td>\n",
       "      <td>0.996747</td>\n",
       "      <td>0.985140</td>\n",
       "      <td>1.012888</td>\n",
       "      <td>1.003119</td>\n",
       "      <td>1.005675</td>\n",
       "      <td>...</td>\n",
       "      <td>0.994869</td>\n",
       "      <td>0.993975</td>\n",
       "      <td>0.989749</td>\n",
       "      <td>1.011160</td>\n",
       "      <td>1.001882</td>\n",
       "      <td>0.980741</td>\n",
       "      <td>0.987749</td>\n",
       "      <td>0.990080</td>\n",
       "      <td>1.003515</td>\n",
       "      <td>1.005655</td>\n",
       "    </tr>\n",
       "    <tr>\n",
       "      <th>2</th>\n",
       "      <td>0.977695</td>\n",
       "      <td>1.005004</td>\n",
       "      <td>1.017988</td>\n",
       "      <td>0.990408</td>\n",
       "      <td>1.015785</td>\n",
       "      <td>1.002891</td>\n",
       "      <td>1.009851</td>\n",
       "      <td>0.999086</td>\n",
       "      <td>1.007093</td>\n",
       "      <td>0.999325</td>\n",
       "      <td>...</td>\n",
       "      <td>1.002121</td>\n",
       "      <td>1.011634</td>\n",
       "      <td>1.001071</td>\n",
       "      <td>1.013784</td>\n",
       "      <td>1.000026</td>\n",
       "      <td>0.964747</td>\n",
       "      <td>0.985756</td>\n",
       "      <td>0.997383</td>\n",
       "      <td>1.001043</td>\n",
       "      <td>1.010661</td>\n",
       "    </tr>\n",
       "    <tr>\n",
       "      <th>3</th>\n",
       "      <td>0.984631</td>\n",
       "      <td>1.004408</td>\n",
       "      <td>1.018968</td>\n",
       "      <td>0.991733</td>\n",
       "      <td>1.019346</td>\n",
       "      <td>1.007796</td>\n",
       "      <td>1.023678</td>\n",
       "      <td>1.023827</td>\n",
       "      <td>1.009384</td>\n",
       "      <td>0.981537</td>\n",
       "      <td>...</td>\n",
       "      <td>1.000559</td>\n",
       "      <td>0.994558</td>\n",
       "      <td>1.006341</td>\n",
       "      <td>1.045626</td>\n",
       "      <td>1.005549</td>\n",
       "      <td>0.975402</td>\n",
       "      <td>0.990232</td>\n",
       "      <td>0.975445</td>\n",
       "      <td>0.999012</td>\n",
       "      <td>1.000801</td>\n",
       "    </tr>\n",
       "    <tr>\n",
       "      <th>4</th>\n",
       "      <td>0.995700</td>\n",
       "      <td>0.988248</td>\n",
       "      <td>1.027124</td>\n",
       "      <td>0.986675</td>\n",
       "      <td>1.023493</td>\n",
       "      <td>1.009457</td>\n",
       "      <td>1.015652</td>\n",
       "      <td>1.040006</td>\n",
       "      <td>1.008734</td>\n",
       "      <td>0.997702</td>\n",
       "      <td>...</td>\n",
       "      <td>1.001721</td>\n",
       "      <td>1.004039</td>\n",
       "      <td>1.017577</td>\n",
       "      <td>1.054137</td>\n",
       "      <td>1.004483</td>\n",
       "      <td>0.980415</td>\n",
       "      <td>0.983199</td>\n",
       "      <td>0.967045</td>\n",
       "      <td>1.021124</td>\n",
       "      <td>1.018885</td>\n",
       "    </tr>\n",
       "    <tr>\n",
       "      <th>...</th>\n",
       "      <td>...</td>\n",
       "      <td>...</td>\n",
       "      <td>...</td>\n",
       "      <td>...</td>\n",
       "      <td>...</td>\n",
       "      <td>...</td>\n",
       "      <td>...</td>\n",
       "      <td>...</td>\n",
       "      <td>...</td>\n",
       "      <td>...</td>\n",
       "      <td>...</td>\n",
       "      <td>...</td>\n",
       "      <td>...</td>\n",
       "      <td>...</td>\n",
       "      <td>...</td>\n",
       "      <td>...</td>\n",
       "      <td>...</td>\n",
       "      <td>...</td>\n",
       "      <td>...</td>\n",
       "      <td>...</td>\n",
       "      <td>...</td>\n",
       "    </tr>\n",
       "    <tr>\n",
       "      <th>2516</th>\n",
       "      <td>0.670880</td>\n",
       "      <td>2.187487</td>\n",
       "      <td>3.509956</td>\n",
       "      <td>3.659347</td>\n",
       "      <td>1.876198</td>\n",
       "      <td>0.664834</td>\n",
       "      <td>1.046750</td>\n",
       "      <td>1.365106</td>\n",
       "      <td>1.670923</td>\n",
       "      <td>2.457841</td>\n",
       "      <td>...</td>\n",
       "      <td>3.482593</td>\n",
       "      <td>1.861938</td>\n",
       "      <td>0.921186</td>\n",
       "      <td>6.174839</td>\n",
       "      <td>1.348035</td>\n",
       "      <td>1.373226</td>\n",
       "      <td>7.018608</td>\n",
       "      <td>1.829938</td>\n",
       "      <td>2.098493</td>\n",
       "      <td>1.668527</td>\n",
       "    </tr>\n",
       "    <tr>\n",
       "      <th>2517</th>\n",
       "      <td>0.683075</td>\n",
       "      <td>2.186087</td>\n",
       "      <td>3.467911</td>\n",
       "      <td>3.696984</td>\n",
       "      <td>1.887482</td>\n",
       "      <td>0.675250</td>\n",
       "      <td>1.050647</td>\n",
       "      <td>1.366082</td>\n",
       "      <td>1.689918</td>\n",
       "      <td>2.435735</td>\n",
       "      <td>...</td>\n",
       "      <td>3.521261</td>\n",
       "      <td>1.839631</td>\n",
       "      <td>0.927369</td>\n",
       "      <td>6.132894</td>\n",
       "      <td>1.368880</td>\n",
       "      <td>1.361448</td>\n",
       "      <td>7.127271</td>\n",
       "      <td>1.839875</td>\n",
       "      <td>2.076247</td>\n",
       "      <td>1.631111</td>\n",
       "    </tr>\n",
       "    <tr>\n",
       "      <th>2518</th>\n",
       "      <td>0.686690</td>\n",
       "      <td>2.158974</td>\n",
       "      <td>3.505711</td>\n",
       "      <td>3.723978</td>\n",
       "      <td>1.887324</td>\n",
       "      <td>0.665501</td>\n",
       "      <td>1.030333</td>\n",
       "      <td>1.374430</td>\n",
       "      <td>1.648069</td>\n",
       "      <td>2.415115</td>\n",
       "      <td>...</td>\n",
       "      <td>3.551970</td>\n",
       "      <td>1.853893</td>\n",
       "      <td>0.935150</td>\n",
       "      <td>6.077635</td>\n",
       "      <td>1.374465</td>\n",
       "      <td>1.395201</td>\n",
       "      <td>6.917215</td>\n",
       "      <td>1.858419</td>\n",
       "      <td>2.078404</td>\n",
       "      <td>1.653722</td>\n",
       "    </tr>\n",
       "    <tr>\n",
       "      <th>2519</th>\n",
       "      <td>0.683943</td>\n",
       "      <td>2.157467</td>\n",
       "      <td>3.537716</td>\n",
       "      <td>3.787424</td>\n",
       "      <td>1.879730</td>\n",
       "      <td>0.653606</td>\n",
       "      <td>1.036470</td>\n",
       "      <td>1.361525</td>\n",
       "      <td>1.619796</td>\n",
       "      <td>2.428717</td>\n",
       "      <td>...</td>\n",
       "      <td>3.578646</td>\n",
       "      <td>1.840203</td>\n",
       "      <td>0.944531</td>\n",
       "      <td>6.058469</td>\n",
       "      <td>1.421169</td>\n",
       "      <td>1.385540</td>\n",
       "      <td>7.014412</td>\n",
       "      <td>1.837041</td>\n",
       "      <td>2.105161</td>\n",
       "      <td>1.661045</td>\n",
       "    </tr>\n",
       "    <tr>\n",
       "      <th>2520</th>\n",
       "      <td>0.688085</td>\n",
       "      <td>2.169119</td>\n",
       "      <td>3.574347</td>\n",
       "      <td>3.831755</td>\n",
       "      <td>1.858619</td>\n",
       "      <td>0.656559</td>\n",
       "      <td>1.037197</td>\n",
       "      <td>1.339711</td>\n",
       "      <td>1.608705</td>\n",
       "      <td>2.488731</td>\n",
       "      <td>...</td>\n",
       "      <td>3.560368</td>\n",
       "      <td>1.855937</td>\n",
       "      <td>0.950013</td>\n",
       "      <td>6.085750</td>\n",
       "      <td>1.436942</td>\n",
       "      <td>1.363824</td>\n",
       "      <td>7.096952</td>\n",
       "      <td>1.827783</td>\n",
       "      <td>2.119231</td>\n",
       "      <td>1.657169</td>\n",
       "    </tr>\n",
       "  </tbody>\n",
       "</table>\n",
       "<p>2521 rows × 500 columns</p>\n",
       "</div>"
      ],
      "text/plain": [
       "           0         1         2         3         4         5         6    \\\n",
       "0     1.000000  1.000000  1.000000  1.000000  1.000000  1.000000  1.000000   \n",
       "1     0.984847  1.013581  1.009898  0.996997  1.001137  0.996747  0.985140   \n",
       "2     0.977695  1.005004  1.017988  0.990408  1.015785  1.002891  1.009851   \n",
       "3     0.984631  1.004408  1.018968  0.991733  1.019346  1.007796  1.023678   \n",
       "4     0.995700  0.988248  1.027124  0.986675  1.023493  1.009457  1.015652   \n",
       "...        ...       ...       ...       ...       ...       ...       ...   \n",
       "2516  0.670880  2.187487  3.509956  3.659347  1.876198  0.664834  1.046750   \n",
       "2517  0.683075  2.186087  3.467911  3.696984  1.887482  0.675250  1.050647   \n",
       "2518  0.686690  2.158974  3.505711  3.723978  1.887324  0.665501  1.030333   \n",
       "2519  0.683943  2.157467  3.537716  3.787424  1.879730  0.653606  1.036470   \n",
       "2520  0.688085  2.169119  3.574347  3.831755  1.858619  0.656559  1.037197   \n",
       "\n",
       "           7         8         9    ...       490       491       492  \\\n",
       "0     1.000000  1.000000  1.000000  ...  1.000000  1.000000  1.000000   \n",
       "1     1.012888  1.003119  1.005675  ...  0.994869  0.993975  0.989749   \n",
       "2     0.999086  1.007093  0.999325  ...  1.002121  1.011634  1.001071   \n",
       "3     1.023827  1.009384  0.981537  ...  1.000559  0.994558  1.006341   \n",
       "4     1.040006  1.008734  0.997702  ...  1.001721  1.004039  1.017577   \n",
       "...        ...       ...       ...  ...       ...       ...       ...   \n",
       "2516  1.365106  1.670923  2.457841  ...  3.482593  1.861938  0.921186   \n",
       "2517  1.366082  1.689918  2.435735  ...  3.521261  1.839631  0.927369   \n",
       "2518  1.374430  1.648069  2.415115  ...  3.551970  1.853893  0.935150   \n",
       "2519  1.361525  1.619796  2.428717  ...  3.578646  1.840203  0.944531   \n",
       "2520  1.339711  1.608705  2.488731  ...  3.560368  1.855937  0.950013   \n",
       "\n",
       "           493       494       495       496       497       498       499  \n",
       "0     1.000000  1.000000  1.000000  1.000000  1.000000  1.000000  1.000000  \n",
       "1     1.011160  1.001882  0.980741  0.987749  0.990080  1.003515  1.005655  \n",
       "2     1.013784  1.000026  0.964747  0.985756  0.997383  1.001043  1.010661  \n",
       "3     1.045626  1.005549  0.975402  0.990232  0.975445  0.999012  1.000801  \n",
       "4     1.054137  1.004483  0.980415  0.983199  0.967045  1.021124  1.018885  \n",
       "...        ...       ...       ...       ...       ...       ...       ...  \n",
       "2516  6.174839  1.348035  1.373226  7.018608  1.829938  2.098493  1.668527  \n",
       "2517  6.132894  1.368880  1.361448  7.127271  1.839875  2.076247  1.631111  \n",
       "2518  6.077635  1.374465  1.395201  6.917215  1.858419  2.078404  1.653722  \n",
       "2519  6.058469  1.421169  1.385540  7.014412  1.837041  2.105161  1.661045  \n",
       "2520  6.085750  1.436942  1.363824  7.096952  1.827783  2.119231  1.657169  \n",
       "\n",
       "[2521 rows x 500 columns]"
      ]
     },
     "execution_count": 39,
     "metadata": {},
     "output_type": "execute_result"
    }
   ],
   "source": [
    "# Run the Monte Carlo simulation to forecast 10 years cumulative returns\n",
    "mc_10year_investment.calc_cumulative_return()"
   ]
  },
  {
   "cell_type": "code",
   "execution_count": 40,
   "metadata": {},
   "outputs": [
    {
     "data": {
      "image/png": "[encoded data removed]",
      "text/plain": [
       "<Figure size 432x288 with 1 Axes>"
      ]
     },
     "metadata": {
      "needs_background": "light"
     },
     "output_type": "display_data"
    }
   ],
   "source": [
    "# Visualize the 10-year Monte Carlo simulation by creating an\n",
    "# overlay line plot\n",
    "# YOUR CODE HERE\n",
    "MC_10year_future_plot = mc_10year_investment.plot_simulation()\n",
    "\n",
    "MC_10year_future_plot.get_figure().savefig(\"MC_future_10year_plot.png\",bbox_inches = \"tight\")"
   ]
  },
  {
   "cell_type": "code",
   "execution_count": 41,
   "metadata": {},
   "outputs": [
    {
     "data": {
      "image/png": "[encoded data removed]",
      "text/plain": [
       "<Figure size 432x288 with 1 Axes>"
      ]
     },
     "metadata": {
      "needs_background": "light"
     },
     "output_type": "display_data"
    }
   ],
   "source": [
    "# Visualize the probability distribution of the 10-year Monte Carlo simulation \n",
    "# by plotting a histogram\n",
    "MC_10year_sim_dist_plot = mc_10year_investment.plot_distribution()"
   ]
  },
  {
   "cell_type": "code",
   "execution_count": 42,
   "metadata": {},
   "outputs": [
    {
     "name": "stdout",
     "output_type": "stream",
     "text": [
      "count           500.000000\n",
      "mean              2.089539\n",
      "std               1.413344\n",
      "min               0.291442\n",
      "25%               1.184463\n",
      "50%               1.690278\n",
      "75%               2.548779\n",
      "max              10.072012\n",
      "95% CI Lower      0.498723\n",
      "95% CI Upper      5.988168\n",
      "Name: 2520, dtype: float64\n"
     ]
    }
   ],
   "source": [
    "# Generate summary statistics from the 10-year Monte Carlo simulation results\n",
    "# Save the results as a variable\n",
    "MC_10yearsummary_stats = mc_10year_investment.summarize_cumulative_return()\n",
    "\n",
    "\n",
    "# Review the 10-year Monte Carlo summary statistics\n",
    "print(MC_10yearsummary_stats)"
   ]
  },
  {
   "cell_type": "markdown",
   "metadata": {},
   "source": [
    "### Answer the following questions:"
   ]
  },
  {
   "cell_type": "markdown",
   "metadata": {},
   "source": [
    "#### Question: Using the current value of only the stock and bond portion of the member's portfolio and the summary statistics that you generated from the new Monte Carlo simulation, what are the lower and upper bounds for the expected value of the portfolio (with the new weights) with a 95% confidence interval?"
   ]
  },
  {
   "cell_type": "code",
   "execution_count": 43,
   "metadata": {},
   "outputs": [
    {
     "name": "stdout",
     "output_type": "stream",
     "text": [
      "59079.8\n"
     ]
    }
   ],
   "source": [
    "# Print the current balance of the stock and bond portion of the members portfolio\n",
    "print(total_stocks_bonds)\n"
   ]
  },
  {
   "cell_type": "code",
   "execution_count": 47,
   "metadata": {},
   "outputs": [
    {
     "name": "stdout",
     "output_type": "stream",
     "text": [
      "There is a 95% chance that an initial investment of $10,000 in the portfolio over the net 10 years wll end within the range of$ 4987.23 and $ 59881.68.\n"
     ]
    }
   ],
   "source": [
    "# Use the lower and upper `95%` confidence intervals to calculate the range of the possible outcomes for the current stock/bond portfolio\n",
    "ci_lower_ten_cumulative_return = MC_10yearsummary_stats[8]*10000\n",
    "ci_upper_ten_cumulative_return = MC_10yearsummary_stats[9]*10000\n",
    "\n",
    "# Print the result of your calculations\n",
    "print(f'There is a 95% chance that an initial investment of $10,000 in the portfolio ' \n",
    "       f'over the net 10 years wll end within the range of'\n",
    "       f'${ci_lower_ten_cumulative_return: .2f} and ${ci_upper_ten_cumulative_return: .2f}.')"
   ]
  },
  {
   "cell_type": "markdown",
   "metadata": {},
   "source": [
    "#### Question: Will weighting the portfolio more heavily to stocks allow the credit union members to retire after only 10 years?"
   ]
  },
  {
   "cell_type": "raw",
   "metadata": {},
   "source": [
    "**Answer** # Not necessarily. At maximum an investment period of 10 years while invested in 80% stocks would yield a portfolio of no more than $60,000. Which I am not sure is possible to retire on depending on food and shelter costs alone. In all honesty, even the 30 year return is under $100,000. I personally feel that in order to retire comfortably one would need close to $750,000 to $1,000,000 within these times. And even then..."
   ]
  },
  {
   "cell_type": "code",
   "execution_count": null,
   "metadata": {},
   "outputs": [],
   "source": []
  }
 ],
 "metadata": {
  "kernelspec": {
   "display_name": "Python 3 (ipykernel)",
   "language": "python",
   "name": "python3"
  },
  "language_info": {
   "codemirror_mode": {
    "name": "ipython",
    "version": 3
   },
   "file_extension": ".py",
   "mimetype": "text/x-python",
   "name": "python",
   "nbconvert_exporter": "python",
   "pygments_lexer": "ipython3",
   "version": "3.9.12"
  }
 },
 "nbformat": 4,
 "nbformat_minor": 4
}
